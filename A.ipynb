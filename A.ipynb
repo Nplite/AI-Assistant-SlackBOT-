{
 "cells": [
  {
   "cell_type": "code",
   "execution_count": 1,
   "metadata": {},
   "outputs": [],
   "source": [
    "import os\n",
    "from slack_sdk import WebClient\n",
    "from slack_sdk.errors import SlackApiError\n",
    "from slack_bolt.adapter.flask import SlackRequestHandler\n",
    "from slack_bolt import App\n",
    "from dotenv import find_dotenv, load_dotenv\n",
    "from flask import Flask, request\n"
   ]
  },
  {
   "cell_type": "code",
   "execution_count": 2,
   "metadata": {},
   "outputs": [
    {
     "data": {
      "text/plain": [
       "True"
      ]
     },
     "execution_count": 2,
     "metadata": {},
     "output_type": "execute_result"
    }
   ],
   "source": [
    "from dotenv import find_dotenv, load_dotenv\n",
    "load_dotenv(find_dotenv())"
   ]
  },
  {
   "cell_type": "code",
   "execution_count": 3,
   "metadata": {},
   "outputs": [],
   "source": [
    "SLACK_BOT_TOKEN = os.environ[\"SLACK_BOT_TOKEN\"]"
   ]
  },
  {
   "cell_type": "code",
   "execution_count": 4,
   "metadata": {},
   "outputs": [],
   "source": [
    "\n",
    "app = App(token=SLACK_BOT_TOKEN)"
   ]
  },
  {
   "cell_type": "code",
   "execution_count": null,
   "metadata": {},
   "outputs": [],
   "source": []
  },
  {
   "cell_type": "code",
   "execution_count": 5,
   "metadata": {},
   "outputs": [
    {
     "data": {
      "text/plain": [
       "'U056BA0PR0D'"
      ]
     },
     "execution_count": 5,
     "metadata": {},
     "output_type": "execute_result"
    }
   ],
   "source": [
    "def get_bot_user_id():\n",
    "    \"\"\"\n",
    "    Get the bot user ID using the Slack API.\n",
    "    Returns:\n",
    "        str: The bot user ID.\n",
    "    \"\"\"\n",
    "    try:\n",
    "        # Initialize the Slack client with your bot token\n",
    "        slack_client = WebClient(token=os.environ[\"SLACK_BOT_TOKEN\"])\n",
    "        response = slack_client.auth_test()\n",
    "        return response[\"user_id\"]\n",
    "    except SlackApiError as e:\n",
    "        print(f\"Error: {e}\")\n",
    "    \n",
    "    \n",
    "get_bot_user_id()"
   ]
  },
  {
   "cell_type": "code",
   "execution_count": 6,
   "metadata": {},
   "outputs": [
    {
     "name": "stdout",
     "output_type": "stream",
     "text": [
      "Requirement already satisfied: langchain in c:\\users\\nplite\\desktop\\langchain-experiments\\venv\\lib\\site-packages (0.0.27)\n",
      "Requirement already satisfied: pyyaml in c:\\users\\nplite\\desktop\\langchain-experiments\\venv\\lib\\site-packages (from langchain) (6.0)\n",
      "Requirement already satisfied: pydantic in c:\\users\\nplite\\desktop\\langchain-experiments\\venv\\lib\\site-packages (from langchain) (1.10.7)\n",
      "Requirement already satisfied: numpy in c:\\users\\nplite\\desktop\\langchain-experiments\\venv\\lib\\site-packages (from langchain) (1.24.3)\n",
      "Requirement already satisfied: requests in c:\\users\\nplite\\desktop\\langchain-experiments\\venv\\lib\\site-packages (from langchain) (2.30.0)\n",
      "Requirement already satisfied: sqlalchemy in c:\\users\\nplite\\desktop\\langchain-experiments\\venv\\lib\\site-packages (from langchain) (2.0.12)\n",
      "Requirement already satisfied: typing-extensions>=4.2.0 in c:\\users\\nplite\\desktop\\langchain-experiments\\venv\\lib\\site-packages (from pydantic->langchain) (4.5.0)\n",
      "Requirement already satisfied: charset-normalizer<4,>=2 in c:\\users\\nplite\\desktop\\langchain-experiments\\venv\\lib\\site-packages (from requests->langchain) (3.1.0)\n",
      "Requirement already satisfied: certifi>=2017.4.17 in c:\\users\\nplite\\desktop\\langchain-experiments\\venv\\lib\\site-packages (from requests->langchain) (2022.12.7)\n",
      "Requirement already satisfied: idna<4,>=2.5 in c:\\users\\nplite\\desktop\\langchain-experiments\\venv\\lib\\site-packages (from requests->langchain) (3.4)\n",
      "Requirement already satisfied: urllib3<3,>=1.21.1 in c:\\users\\nplite\\desktop\\langchain-experiments\\venv\\lib\\site-packages (from requests->langchain) (2.0.2)\n",
      "Requirement already satisfied: greenlet!=0.4.17 in c:\\users\\nplite\\desktop\\langchain-experiments\\venv\\lib\\site-packages (from sqlalchemy->langchain) (2.0.2)\n"
     ]
    },
    {
     "ename": "ModuleNotFoundError",
     "evalue": "No module named 'langchain.chat_models'",
     "output_type": "error",
     "traceback": [
      "\u001b[1;31m---------------------------------------------------------------------------\u001b[0m",
      "\u001b[1;31mModuleNotFoundError\u001b[0m                       Traceback (most recent call last)",
      "\u001b[1;32mc:\\Users\\Nplite\\Desktop\\langchain-experiments\\A.ipynb Cell 7\u001b[0m in \u001b[0;36m<cell line: 2>\u001b[1;34m()\u001b[0m\n\u001b[0;32m      <a href='vscode-notebook-cell:/c%3A/Users/Nplite/Desktop/langchain-experiments/A.ipynb#W6sZmlsZQ%3D%3D?line=0'>1</a>\u001b[0m get_ipython()\u001b[39m.\u001b[39msystem(\u001b[39m'\u001b[39m\u001b[39mpip install langchain\u001b[39m\u001b[39m'\u001b[39m)\n\u001b[1;32m----> <a href='vscode-notebook-cell:/c%3A/Users/Nplite/Desktop/langchain-experiments/A.ipynb#W6sZmlsZQ%3D%3D?line=1'>2</a>\u001b[0m \u001b[39mfrom\u001b[39;00m \u001b[39mlangchain\u001b[39;00m\u001b[39m.\u001b[39;00m\u001b[39mchat_models\u001b[39;00m \u001b[39mimport\u001b[39;00m ChatOpenAI\n",
      "\u001b[1;31mModuleNotFoundError\u001b[0m: No module named 'langchain.chat_models'"
     ]
    }
   ],
   "source": [
    "!pip install langchain\n",
    "from langchain.chat_models import ChatOpenAI"
   ]
  },
  {
   "cell_type": "code",
   "execution_count": null,
   "metadata": {},
   "outputs": [],
   "source": []
  }
 ],
 "metadata": {
  "kernelspec": {
   "display_name": "Python 3",
   "language": "python",
   "name": "python3"
  },
  "language_info": {
   "codemirror_mode": {
    "name": "ipython",
    "version": 3
   },
   "file_extension": ".py",
   "mimetype": "text/x-python",
   "name": "python",
   "nbconvert_exporter": "python",
   "pygments_lexer": "ipython3",
   "version": "3.8.0"
  },
  "orig_nbformat": 4
 },
 "nbformat": 4,
 "nbformat_minor": 2
}
